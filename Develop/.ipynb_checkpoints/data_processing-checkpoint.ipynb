{
 "cells": [
  {
   "cell_type": "code",
   "execution_count": 1,
   "metadata": {},
   "outputs": [],
   "source": [
    "import pandas as pd\n",
    "from sklearn.model_selection import train_test_split\n",
    "import random\n",
    "import matplotlib.pyplot as plt\n",
    "import seaborn as sns\n"
   ]
  },
  {
   "cell_type": "code",
   "execution_count": 2,
   "metadata": {},
   "outputs": [],
   "source": [
    "data = pd.read_csv('raw_data.csv', sep = '\\t')"
   ]
  },
  {
   "cell_type": "code",
   "execution_count": 3,
   "metadata": {},
   "outputs": [
    {
     "name": "stdout",
     "output_type": "stream",
     "text": [
      "['t', 'o', 'r', 'q', 'j', 'n', 'f', 'p', 'k', 'i', 'd', 'c', 'b', 'a', 's', 'g', 'e', 'm', 'l', 'h']\n",
      "preprocessing is done\n"
     ]
    }
   ],
   "source": [
    "# country 변수에서 US만 사용\n",
    "data_pre = data[data['country'].isin(['US','GB','CA','AU','IN','HU','DE','PH','NL','CN','PL','FR','ID','RO','ZA','NO','MY','SG'])]\n",
    "data_pre = data_pre.drop('country', axis = 1)\n",
    "\n",
    "# vote에서 0[이상치]을 제거\n",
    "# 1 = yes, 2 = no\n",
    "data_pre = data_pre[data_pre['voted']!=0]\n",
    "\n",
    "# major, screenw, screenh, introelapse, testelapse,surveyelapse, orientation 변수 제거\n",
    "data_pre = data_pre.drop(['major','screenw','screenh','introelapse','testelapse','surveyelapse','orientation'], axis = 1)\n",
    "\n",
    "# gender에서 3(other) 제거 및 문자화\n",
    "data_pre = data_pre[data_pre['gender']!=3]\n",
    "gender_name = {1:'Male', 2:'Female'}\n",
    "data_pre['gender'] = data_pre['gender'].map(gender_name)\n",
    "\n",
    "# Q_I : 질문의 위치를 나타내는 변수 제거\n",
    "not_remove_list = [x for x in data_pre.columns if not x.endswith(\"I\")]\n",
    "data_pre = data_pre[not_remove_list]\n",
    "\n",
    "# 나이 범주화\n",
    "data_pre = data_pre[(data_pre['age']<120) & (data_pre['age']>10)]\n",
    "data_pre['age_group'] = pd.cut(data_pre['age'], bins = [10,20,30,40,50,60,70,120], labels= ['10s','20s','30s','40s','50s','60s','+70s'])\n",
    "data_pre = data_pre.drop('age', axis =1)\n",
    "\n",
    "# religion 변수 문자화\n",
    "religion_name = {1:'Agnostic', 2:'Atheist', 3:'Buddhist', 4:'Christian_Catholic', 5:'Christian_Mormon', 6:'Christian_Protestant', 7:'Christian_Other', 8:'Hindu', 9:'Jewish', 10:'Muslim', 11:'Sikh', 12:'Other'}\n",
    "data_pre['religion'] = data_pre['religion'].map(religion_name)\n",
    "\n",
    "# race 변수 문자화\n",
    "race_name = {10:'Asian', 20:'Arab', 30:'Black', 40:'Indigenous Australian', 50:'Native American', 60:'White', 70:'Other'}\n",
    "data_pre['race'] = data_pre['race'].map(race_name)\n",
    "\n",
    "# TIPI 척도 및 변수명 변경 (1~7 → 6~0)\n",
    "tipi_list = ['TIPI1','TIPI2','TIPI3','TIPI4','TIPI5','TIPI6','TIPI7','TIPI8','TIPI9','TIPI10']\n",
    "tipi_new0 = ['tp01','tp02','tp03','tp04','tp05','tp06','tp07','tp08','tp09','tp10']\n",
    "for i in tipi_list:\n",
    "  data_pre[i] = data_pre[i].map(lambda x: 7-x)\n",
    "\n",
    "data_pre.rename(columns = dict(zip(tipi_list,tipi_new0)), inplace=True)\n",
    "\n",
    "\n",
    "# VCL 변수명 변경(변수명 공개x)\n",
    "## 존재하는 단어 : wr01~13\n",
    "## 허구의 단어 : wf01~03\n",
    "col_names = list(data_pre.columns)\n",
    "VCL_list = [x for x in data_pre.columns if x.startswith(\"VCL\")]\n",
    "FK_list = ['wr_02','wr_05','wr_11','wr_10',\n",
    "           'wr_13','wf_03','wr_03','wr_06',\n",
    "           'wf_01','wr_12','wr_09','wf_02',\n",
    "           'wr_01','wr_04','wr_07','wr_08']\n",
    "data_pre.rename(columns = dict(zip(VCL_list,FK_list)), inplace=True)\n",
    "\n",
    "# Q_E 단위 변경\n",
    "## 7 나눈다음 버림 \n",
    "E_names = [x for x in data.columns if x.startswith(\"Q\") and x.endswith('E')]\n",
    "data_pre[E_names] = data_pre[E_names]/7\n",
    "data_pre[E_names] = data_pre[E_names].fillna(0).applymap(lambda x: max(x, 0)).astype(int)\n",
    "\n",
    "\n",
    "# Q_A 및 Q_E 변수명 및 순서 변경\n",
    "## 1~20의 숫자를 a~t로 변경\n",
    "random.seed(8)\n",
    "alphabet_20 = ['a','b','c','d','e','f','g','h','i','j','k','l','m','n','o','p','q','r','s','t']\n",
    "random.shuffle(alphabet_20)\n",
    "print(alphabet_20)\n",
    "\n",
    "A_list = []\n",
    "E_list = []\n",
    "\n",
    "for i in alphabet_20:\n",
    "  temp1 = 'Q{}A'.format(i)\n",
    "  temp2 = 'Q{}E'.format(i)\n",
    "  A_list.append(temp1)\n",
    "  E_list.append(temp2)\n",
    "\n",
    "A_names = [x for x in data.columns if x.startswith(\"Q\") and x.endswith('A')]\n",
    "E_names = [x for x in data.columns if x.startswith(\"Q\") and x.endswith('E')]\n",
    "\n",
    "data_pre.rename(columns = dict(zip(A_names,A_list)), inplace=True)\n",
    "data_pre.rename(columns = dict(zip(E_names,E_list)), inplace=True)\n",
    "\n",
    "# 결측치 제거\n",
    "data_pre = data_pre.dropna(axis=0)\n",
    "\n",
    "\n",
    "# 데이터를 변수명으로 정렬\n",
    "data_pre = data_pre.reindex(sorted(data_pre.columns), axis=1)\n",
    "\n",
    "#출력과 결과가 같아야함.\n",
    "#['t', 'o', 'r', 'q', 'j', 'n', 'f', 'p', 'k', 'i', 'd', 'c', 'b', 'a', 's', 'g', 'e', 'm', 'l', 'h']\n",
    "print('preprocessing is done')"
   ]
  },
  {
   "cell_type": "code",
   "execution_count": 4,
   "metadata": {},
   "outputs": [],
   "source": [
    "# 최종 데이터셋 제작\n",
    "train, test = train_test_split(data_pre, test_size = 0.2, random_state=8)"
   ]
  },
  {
   "cell_type": "code",
   "execution_count": 5,
   "metadata": {},
   "outputs": [],
   "source": [
    "train = train.reset_index(drop=True).reset_index(drop=False)\n",
    "test = test.reset_index(drop=True).reset_index(drop=False)"
   ]
  },
  {
   "cell_type": "code",
   "execution_count": 6,
   "metadata": {},
   "outputs": [
    {
     "name": "stdout",
     "output_type": "stream",
     "text": [
      "(45532, 78)/(11383, 78)\n"
     ]
    }
   ],
   "source": [
    "print(train.shape, test.shape, sep='/')"
   ]
  },
  {
   "cell_type": "code",
   "execution_count": 7,
   "metadata": {},
   "outputs": [],
   "source": [
    "test_x = test.drop('voted', axis = 1)\n",
    "test_answer = test[['index','voted']]\n",
    "public_y = test_answer[:5000]\n",
    "private_y = test_answer[5000:]"
   ]
  },
  {
   "cell_type": "code",
   "execution_count": 8,
   "metadata": {},
   "outputs": [],
   "source": [
    "train.to_csv('data2/train.csv', encoding='utf-8', index = False)\n",
    "test_x.to_csv('data2/test_x.csv', encoding='utf-8', index = False)\n",
    "test_answer.to_csv('data2/test_answer.csv', encoding='utf-8', index = False)\n",
    "public_y.to_csv('data2/public_y.csv', encoding='utf-8', index = False)\n",
    "private_y.to_csv('data2/private_y.csv', encoding='utf-8', index = False)"
   ]
  }
 ],
 "metadata": {
  "hide_input": false,
  "kernelspec": {
   "display_name": "Python 3",
   "language": "python",
   "name": "python3"
  },
  "language_info": {
   "codemirror_mode": {
    "name": "ipython",
    "version": 3
   },
   "file_extension": ".py",
   "mimetype": "text/x-python",
   "name": "python",
   "nbconvert_exporter": "python",
   "pygments_lexer": "ipython3",
   "version": "3.7.6"
  },
  "toc": {
   "base_numbering": 1,
   "nav_menu": {},
   "number_sections": true,
   "sideBar": true,
   "skip_h1_title": false,
   "title_cell": "Table of Contents",
   "title_sidebar": "Contents",
   "toc_cell": false,
   "toc_position": {},
   "toc_section_display": true,
   "toc_window_display": false
  },
  "varInspector": {
   "cols": {
    "lenName": 16,
    "lenType": 16,
    "lenVar": 40
   },
   "kernels_config": {
    "python": {
     "delete_cmd_postfix": "",
     "delete_cmd_prefix": "del ",
     "library": "var_list.py",
     "varRefreshCmd": "print(var_dic_list())"
    },
    "r": {
     "delete_cmd_postfix": ") ",
     "delete_cmd_prefix": "rm(",
     "library": "var_list.r",
     "varRefreshCmd": "cat(var_dic_list()) "
    }
   },
   "types_to_exclude": [
    "module",
    "function",
    "builtin_function_or_method",
    "instance",
    "_Feature"
   ],
   "window_display": false
  }
 },
 "nbformat": 4,
 "nbformat_minor": 4
}
